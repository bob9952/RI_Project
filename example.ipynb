{
 "cells": [
  {
   "cell_type": "code",
   "execution_count": 2,
   "id": "35a8a183",
   "metadata": {
    "tags": []
   },
   "outputs": [],
   "source": [
    "from tensorflow import keras\n",
    "import tensorflow\n",
    "import numpy as np \n",
    "import pandas as pd \n",
    "import matplotlib.pyplot as plt\n",
    "import os\n",
    "import cv2\n",
    "from sklearn import preprocessing\n",
    "from pathlib import Path\n",
    "from PIL import Image"
   ]
  },
  {
   "cell_type": "code",
   "execution_count": 3,
   "id": "9864dd7e",
   "metadata": {
    "tags": []
   },
   "outputs": [],
   "source": [
    "symbols_list = ['zero','one','two','three','four','five','six','seven','eight','nine','minus','plus','equal','div','decimal','times']"
   ]
  },
  {
   "cell_type": "code",
   "execution_count": 4,
   "id": "a171c02f",
   "metadata": {
    "tags": []
   },
   "outputs": [],
   "source": [
    "IMAGE_SIZE = (32,32)"
   ]
  },
  {
   "cell_type": "code",
   "execution_count": 5,
   "id": "c8a6ed1f",
   "metadata": {
    "tags": []
   },
   "outputs": [
    {
     "data": {
      "text/plain": [
       "[PhysicalDevice(name='/physical_device:GPU:0', device_type='GPU')]"
      ]
     },
     "execution_count": 5,
     "metadata": {},
     "output_type": "execute_result"
    }
   ],
   "source": [
    "tensorflow.config.list_physical_devices('GPU')\n"
   ]
  },
  {
   "cell_type": "code",
   "execution_count": 6,
   "id": "2912a7ab",
   "metadata": {
    "tags": []
   },
   "outputs": [],
   "source": [
    "dataset_path = \"./train\"\n",
    "train_image = []\n",
    "train_label = []\n",
    "\n",
    "for symbols_dir in os.listdir(dataset_path):\n",
    "    if symbols_dir.split()[0] in symbols_list:\n",
    "        for image in os.listdir(os.path.join( dataset_path, symbols_dir)):\n",
    "            train_label.append(symbols_dir.split()[0])\n",
    "            train_image.append(os.path.join( dataset_path, symbols_dir, image))"
   ]
  },
  {
   "cell_type": "code",
   "execution_count": 7,
   "id": "6ebeca8c",
   "metadata": {
    "tags": []
   },
   "outputs": [],
   "source": [
    "eval_path = \"./eval\"\n",
    "test_image = []\n",
    "test_label = []\n",
    "\n",
    "for symbols_dir in os.listdir(eval_path):\n",
    "    if symbols_dir.split()[0] in symbols_list:\n",
    "        for image in os.listdir( os.path.join (eval_path, symbols_dir)):\n",
    "            test_label.append(symbols_dir.split()[0])\n",
    "            test_image.append(os.path.join( eval_path, symbols_dir, image))"
   ]
  },
  {
   "cell_type": "code",
   "execution_count": 8,
   "id": "c792c4d7",
   "metadata": {
    "tags": []
   },
   "outputs": [],
   "source": [
    "X_train = []\n",
    "X_test = []\n",
    "\n",
    "# laoding the images from the path\n",
    "for path in train_image:    \n",
    "    img = cv2.imread(path)\n",
    "    img = cv2.resize(img, IMAGE_SIZE)\n",
    "    img = np.array(img)\n",
    "    X_train.append(img)\n",
    "\n",
    "for path in test_image:    \n",
    "    img = cv2.imread(path)\n",
    "    img = cv2.resize(img, IMAGE_SIZE)\n",
    "    img = np.array(img)     \n",
    "    X_test.append(img)\n",
    "\n",
    "# creating numpy array from the images\n",
    "X_train = np.array(X_train)\n",
    "X_test = np.array(X_test)"
   ]
  },
  {
   "cell_type": "code",
   "execution_count": 9,
   "id": "fc98586b",
   "metadata": {
    "tags": []
   },
   "outputs": [
    {
     "name": "stdout",
     "output_type": "stream",
     "text": [
      "X_train shape:  (7557, 32, 32, 3)\n",
      "X_test shape:  (1010, 32, 32, 3)\n"
     ]
    }
   ],
   "source": [
    "# normalizing the data\n",
    "X_train = X_train.astype('float32')\n",
    "X_test = X_test.astype('float32')\n",
    "X_train /= 255\n",
    "X_test /= 255\n",
    "\n",
    "print(\"X_train shape: \", X_train.shape)\n",
    "print(\"X_test shape: \", X_test.shape)"
   ]
  },
  {
   "cell_type": "code",
   "execution_count": 10,
   "id": "5ff28ba7",
   "metadata": {
    "tags": []
   },
   "outputs": [
    {
     "name": "stdout",
     "output_type": "stream",
     "text": [
      "./train\\decimal\\1003.jpg\n",
      "decimal\n"
     ]
    },
    {
     "data": {
      "text/plain": [
       "<matplotlib.image.AxesImage at 0x202776ff7f0>"
      ]
     },
     "execution_count": 10,
     "metadata": {},
     "output_type": "execute_result"
    },
    {
     "data": {
      "image/png": "[encoded data removed]",
      "text/plain": [
       "<Figure size 640x480 with 1 Axes>"
      ]
     },
     "metadata": {},
     "output_type": "display_data"
    }
   ],
   "source": [
    "print(train_image[0])\n",
    "print(train_label[0])\n",
    "plt.imshow(X_train[0])"
   ]
  },
  {
   "cell_type": "code",
   "execution_count": 11,
   "id": "2bc9fbfd",
   "metadata": {
    "tags": []
   },
   "outputs": [
    {
     "name": "stdout",
     "output_type": "stream",
     "text": [
      "(1010, 16)\n",
      "(7557, 16)\n"
     ]
    }
   ],
   "source": [
    "y_train = np.array([[0] * 16 for _ in range(len(train_label))])\n",
    "\n",
    "for i, category in enumerate(train_label):\n",
    "    index = symbols_list.index(category)\n",
    "    y_train[i][index] = 1\n",
    "y_test = np.array([[0] * 16 for _ in range(len(test_label))])\n",
    "\n",
    "for i, category in enumerate(test_label):\n",
    "    index = symbols_list.index(category)\n",
    "    y_train[i][index] = 1\n",
    "\n",
    "print(y_test.shape)\n",
    "print(y_train.shape)"
   ]
  },
  {
   "cell_type": "code",
   "execution_count": 12,
   "id": "9e3763ca",
   "metadata": {
    "tags": []
   },
   "outputs": [],
   "source": [
    "###  MODEL "
   ]
  },
  {
   "cell_type": "code",
   "execution_count": null,
   "id": "daaaff36",
   "metadata": {},
   "outputs": [],
   "source": []
  },
  {
   "cell_type": "code",
   "execution_count": 13,
   "id": "a8bcbaf6",
   "metadata": {
    "tags": []
   },
   "outputs": [],
   "source": [
    "from keras.applications.resnet_v2 import ResNet50V2, preprocess_input, decode_predictions"
   ]
  },
  {
   "cell_type": "code",
   "execution_count": 14,
   "id": "4863feb4",
   "metadata": {
    "tags": []
   },
   "outputs": [
    {
     "name": "stdout",
     "output_type": "stream",
     "text": [
      "Downloading data from https://storage.googleapis.com/tensorflow/keras-applications/resnet/resnet50v2_weights_tf_dim_ordering_tf_kernels_notop.h5\n",
      "94668760/94668760 [==============================] - 127s 1us/step\n"
     ]
    }
   ],
   "source": [
    "transfer_model = ResNet50V2(include_top=False, weights='imagenet', input_shape=(IMAGE_SIZE[0], IMAGE_SIZE[1],3))"
   ]
  },
  {
   "cell_type": "code",
   "execution_count": 15,
   "id": "49030631",
   "metadata": {
    "tags": []
   },
   "outputs": [],
   "source": [
    "transfer_model.trainable = False"
   ]
  },
  {
   "cell_type": "code",
   "execution_count": 16,
   "id": "cc6571be",
   "metadata": {
    "tags": []
   },
   "outputs": [],
   "source": [
    "inputs = keras.Input(shape=(IMAGE_SIZE[0], IMAGE_SIZE[1],3))\n",
    "x = transfer_model(inputs)\n",
    "x = keras.layers.GlobalAveragePooling2D()(x)\n",
    "x = keras.layers.Flatten()(x)\n",
    "outputs = keras.layers.Dense(16, activation='softmax')(x)\n",
    "model = keras.Model(inputs, outputs)"
   ]
  },
  {
   "cell_type": "code",
   "execution_count": 17,
   "id": "13ea31bb",
   "metadata": {
    "scrolled": true,
    "tags": []
   },
   "outputs": [
    {
     "name": "stdout",
     "output_type": "stream",
     "text": [
      "Model: \"model\"\n",
      "_________________________________________________________________\n",
      " Layer (type)                Output Shape              Param #   \n",
      "=================================================================\n",
      " input_2 (InputLayer)        [(None, 32, 32, 3)]       0         \n",
      "                                                                 \n",
      " resnet50v2 (Functional)     (None, 1, 1, 2048)        23564800  \n",
      "                                                                 \n",
      " global_average_pooling2d (G  (None, 2048)             0         \n",
      " lobalAveragePooling2D)                                          \n",
      "                                                                 \n",
      " flatten (Flatten)           (None, 2048)              0         \n",
      "                                                                 \n",
      " dense (Dense)               (None, 16)                32784     \n",
      "                                                                 \n",
      "=================================================================\n",
      "Total params: 23,597,584\n",
      "Trainable params: 32,784\n",
      "Non-trainable params: 23,564,800\n",
      "_________________________________________________________________\n"
     ]
    }
   ],
   "source": [
    "model.summary()"
   ]
  },
  {
   "cell_type": "code",
   "execution_count": 18,
   "id": "14dfbd82",
   "metadata": {
    "tags": []
   },
   "outputs": [],
   "source": [
    "model.compile(optimizer='adam', loss=keras.metrics.categorical_crossentropy, metrics=['accuracy'])"
   ]
  },
  {
   "cell_type": "code",
   "execution_count": 19,
   "id": "c54c0271",
   "metadata": {
    "tags": []
   },
   "outputs": [
    {
     "name": "stdout",
     "output_type": "stream",
     "text": [
      "Epoch 1/20\n",
      "473/473 [==============================] - 16s 19ms/step - loss: 2.3903 - accuracy: 0.3999\n",
      "Epoch 2/20\n",
      "473/473 [==============================] - 8s 17ms/step - loss: 1.9228 - accuracy: 0.5093\n",
      "Epoch 3/20\n",
      "473/473 [==============================] - 8s 17ms/step - loss: 1.7803 - accuracy: 0.5386\n",
      "Epoch 4/20\n",
      "473/473 [==============================] - 8s 17ms/step - loss: 1.7059 - accuracy: 0.5534\n",
      "Epoch 5/20\n",
      "473/473 [==============================] - 8s 18ms/step - loss: 1.6573 - accuracy: 0.5740\n",
      "Epoch 6/20\n",
      "473/473 [==============================] - 8s 18ms/step - loss: 1.6242 - accuracy: 0.5814\n",
      "Epoch 7/20\n",
      "473/473 [==============================] - 8s 18ms/step - loss: 1.5992 - accuracy: 0.5906\n",
      "Epoch 8/20\n",
      "473/473 [==============================] - 8s 17ms/step - loss: 1.5767 - accuracy: 0.5983\n",
      "Epoch 9/20\n",
      "473/473 [==============================] - 8s 17ms/step - loss: 1.5673 - accuracy: 0.6049\n",
      "Epoch 10/20\n",
      "473/473 [==============================] - 8s 17ms/step - loss: 1.5544 - accuracy: 0.6065\n",
      "Epoch 11/20\n",
      "473/473 [==============================] - 8s 17ms/step - loss: 1.5430 - accuracy: 0.6090\n",
      "Epoch 12/20\n",
      "473/473 [==============================] - 8s 17ms/step - loss: 1.5355 - accuracy: 0.6137\n",
      "Epoch 13/20\n",
      "473/473 [==============================] - 8s 18ms/step - loss: 1.5300 - accuracy: 0.6144\n",
      "Epoch 14/20\n",
      "473/473 [==============================] - 8s 18ms/step - loss: 1.5232 - accuracy: 0.6215\n",
      "Epoch 15/20\n",
      "473/473 [==============================] - 9s 19ms/step - loss: 1.5248 - accuracy: 0.6219\n",
      "Epoch 16/20\n",
      "473/473 [==============================] - 8s 18ms/step - loss: 1.5167 - accuracy: 0.6270\n",
      "Epoch 17/20\n",
      "473/473 [==============================] - 9s 18ms/step - loss: 1.5118 - accuracy: 0.6294\n",
      "Epoch 18/20\n",
      "473/473 [==============================] - 8s 18ms/step - loss: 1.5161 - accuracy: 0.6268\n",
      "Epoch 19/20\n",
      "473/473 [==============================] - 8s 18ms/step - loss: 1.5109 - accuracy: 0.6316\n",
      "Epoch 20/20\n",
      "473/473 [==============================] - 8s 18ms/step - loss: 1.5110 - accuracy: 0.6352\n"
     ]
    }
   ],
   "source": [
    "history = model.fit(\n",
    "    X_train,\n",
    "    y_train,\n",
    "    epochs=20,\n",
    "    batch_size=16\n",
    ")"
   ]
  },
  {
   "cell_type": "code",
   "execution_count": 19,
   "id": "9c360614-1b61-4289-81ee-472c0d0555e2",
   "metadata": {
    "tags": []
   },
   "outputs": [],
   "source": [
    "from tensorflow.keras.preprocessing import image"
   ]
  },
  {
   "cell_type": "code",
   "execution_count": 28,
   "id": "5e137a58-f5d3-4df6-9191-3d6b0bc27013",
   "metadata": {
    "tags": []
   },
   "outputs": [
    {
     "name": "stdout",
     "output_type": "stream",
     "text": [
      "1/1 [==============================] - 0s 21ms/step\n",
      "times\n",
      "[[0. 0. 0. 0. 0. 0. 0. 0. 0. 0. 0. 0. 0. 0. 0. 1.]]\n"
     ]
    }
   ],
   "source": [
    "img_path = '../projekat/characters/8.png'\n",
    "img = image.load_img(img_path, target_size=(32, 32))\n",
    "x = image.img_to_array(img)\n",
    "x = np.expand_dims(x, axis=0)\n",
    "preds = model.predict(x)\n",
    "\n",
    "print(symbols_list[preds.argmax(axis=1)[0]])\n",
    "print(preds)"
   ]
  },
  {
   "cell_type": "code",
   "execution_count": null,
   "id": "385f1d9a-9d81-4bde-bad8-38c908c64076",
   "metadata": {},
   "outputs": [],
   "source": []
  }
 ],
 "metadata": {
  "kernelspec": {
   "display_name": "RI_Project",
   "language": "python",
   "name": "ri_project"
  },
  "language_info": {
   "codemirror_mode": {
    "name": "ipython",
    "version": 3
   },
   "file_extension": ".py",
   "mimetype": "text/x-python",
   "name": "python",
   "nbconvert_exporter": "python",
   "pygments_lexer": "ipython3",
   "version": "3.9.16"
  }
 },
 "nbformat": 4,
 "nbformat_minor": 5
}
